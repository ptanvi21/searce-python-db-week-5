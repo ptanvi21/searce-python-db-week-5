{
 "cells": [
  {
   "cell_type": "code",
   "execution_count": 1,
   "metadata": {},
   "outputs": [
    {
     "name": "stdout",
     "output_type": "stream",
     "text": [
      "hello\n"
     ]
    }
   ],
   "source": [
    "print('hello')"
   ]
  },
  {
   "cell_type": "code",
   "execution_count": 2,
   "metadata": {},
   "outputs": [
    {
     "name": "stdout",
     "output_type": "stream",
     "text": [
      "HelloWorld!\n"
     ]
    }
   ],
   "source": [
    "print('Hello' + 'World!')"
   ]
  },
  {
   "cell_type": "code",
   "execution_count": 3,
   "metadata": {},
   "outputs": [
    {
     "data": {
      "text/plain": [
       "int"
      ]
     },
     "execution_count": 3,
     "metadata": {},
     "output_type": "execute_result"
    }
   ],
   "source": [
    "type(1)"
   ]
  },
  {
   "cell_type": "code",
   "execution_count": 4,
   "metadata": {},
   "outputs": [
    {
     "data": {
      "text/plain": [
       "str"
      ]
     },
     "execution_count": 4,
     "metadata": {},
     "output_type": "execute_result"
    }
   ],
   "source": [
    "type('abc')"
   ]
  },
  {
   "cell_type": "code",
   "execution_count": 5,
   "metadata": {},
   "outputs": [
    {
     "data": {
      "text/plain": [
       "float"
      ]
     },
     "execution_count": 5,
     "metadata": {},
     "output_type": "execute_result"
    }
   ],
   "source": [
    "type(23.44)"
   ]
  },
  {
   "cell_type": "code",
   "execution_count": 6,
   "metadata": {},
   "outputs": [
    {
     "name": "stdout",
     "output_type": "stream",
     "text": [
      "24.22\n"
     ]
    }
   ],
   "source": [
    "print(12+12.22)"
   ]
  },
  {
   "cell_type": "code",
   "execution_count": 8,
   "metadata": {},
   "outputs": [
    {
     "name": "stdout",
     "output_type": "stream",
     "text": [
      "5.0\n",
      "0.099\n"
     ]
    }
   ],
   "source": [
    "print(10/2)\n",
    "print(99/1000)"
   ]
  },
  {
   "cell_type": "code",
   "execution_count": 9,
   "metadata": {},
   "outputs": [
    {
     "ename": "TypeError",
     "evalue": "can only concatenate str (not \"int\") to str",
     "output_type": "error",
     "traceback": [
      "\u001b[0;31m---------------------------------------------------------------------------\u001b[0m",
      "\u001b[0;31mTypeError\u001b[0m                                 Traceback (most recent call last)",
      "\u001b[1;32m/Users/punamtanvikshatriya/Documents/DSA_Training/week 5/pythonForEverybody.ipynb Cell 8'\u001b[0m in \u001b[0;36m<module>\u001b[0;34m\u001b[0m\n\u001b[1;32m      <a href='vscode-notebook-cell:/Users/punamtanvikshatriya/Documents/DSA_Training/week%205/pythonForEverybody.ipynb#ch0000008?line=0'>1</a>\u001b[0m \u001b[39m#string conversions\u001b[39;00m\n\u001b[1;32m      <a href='vscode-notebook-cell:/Users/punamtanvikshatriya/Documents/DSA_Training/week%205/pythonForEverybody.ipynb#ch0000008?line=1'>2</a>\u001b[0m s \u001b[39m=\u001b[39m \u001b[39m'\u001b[39m\u001b[39m123\u001b[39m\u001b[39m'\u001b[39m\n\u001b[0;32m----> <a href='vscode-notebook-cell:/Users/punamtanvikshatriya/Documents/DSA_Training/week%205/pythonForEverybody.ipynb#ch0000008?line=2'>3</a>\u001b[0m \u001b[39mprint\u001b[39m(s\u001b[39m+\u001b[39;49m\u001b[39m1\u001b[39;49m)\n",
      "\u001b[0;31mTypeError\u001b[0m: can only concatenate str (not \"int\") to str"
     ]
    }
   ],
   "source": [
    "#string conversions\n",
    "s = '123'\n",
    "print(s+1)"
   ]
  },
  {
   "cell_type": "code",
   "execution_count": 12,
   "metadata": {},
   "outputs": [
    {
     "name": "stdout",
     "output_type": "stream",
     "text": [
      "123\n",
      "123\n",
      "124\n"
     ]
    }
   ],
   "source": [
    "s = '123'\n",
    "print(s)\n",
    "ans = int(s)\n",
    "print(ans)\n",
    "print(ans+1)"
   ]
  },
  {
   "cell_type": "code",
   "execution_count": 15,
   "metadata": {},
   "outputs": [
    {
     "name": "stdout",
     "output_type": "stream",
     "text": [
      "Hello Tanvi\n"
     ]
    }
   ],
   "source": [
    "name = input(\"What is your name?\")\n",
    "print(\"Hello\", name)"
   ]
  },
  {
   "cell_type": "code",
   "execution_count": 16,
   "metadata": {},
   "outputs": [
    {
     "name": "stdout",
     "output_type": "stream",
     "text": [
      "Next floor is 4\n"
     ]
    }
   ],
   "source": [
    "#converting user input\n",
    "a = input(\"Floor number\")\n",
    "x = int(a) + 1\n",
    "print(\"Next floor is\", x)"
   ]
  },
  {
   "cell_type": "code",
   "execution_count": 17,
   "metadata": {},
   "outputs": [
    {
     "name": "stdout",
     "output_type": "stream",
     "text": [
      "Smaller\n"
     ]
    }
   ],
   "source": [
    "#conditional steps\n",
    "x = 5\n",
    "if(x>10):\n",
    "    print(\"Bigger\")\n",
    "else:\n",
    "    print(\"Smaller\")"
   ]
  },
  {
   "cell_type": "code",
   "execution_count": 18,
   "metadata": {},
   "outputs": [
    {
     "name": "stdout",
     "output_type": "stream",
     "text": [
      "Big\n"
     ]
    }
   ],
   "source": [
    "#elif\n",
    "x = 21\n",
    "if(x<2):\n",
    "    print('Small')\n",
    "elif(x<10):\n",
    "    print('Medium')\n",
    "elif(x<25):\n",
    "    print('Big')\n",
    "elif(x<100):\n",
    "    print('Large')\n",
    "else:\n",
    "    print(\"Huge\")"
   ]
  },
  {
   "cell_type": "code",
   "execution_count": 19,
   "metadata": {},
   "outputs": [
    {
     "ename": "ValueError",
     "evalue": "invalid literal for int() with base 10: 'xyz'",
     "output_type": "error",
     "traceback": [
      "\u001b[0;31m---------------------------------------------------------------------------\u001b[0m",
      "\u001b[0;31mValueError\u001b[0m                                Traceback (most recent call last)",
      "\u001b[1;32m/Users/punamtanvikshatriya/Documents/DSA_Training/week 5/pythonForEverybody.ipynb Cell 14'\u001b[0m in \u001b[0;36m<module>\u001b[0;34m\u001b[0m\n\u001b[1;32m      <a href='vscode-notebook-cell:/Users/punamtanvikshatriya/Documents/DSA_Training/week%205/pythonForEverybody.ipynb#ch0000015?line=0'>1</a>\u001b[0m name \u001b[39m=\u001b[39m \u001b[39m'\u001b[39m\u001b[39mxyz\u001b[39m\u001b[39m'\u001b[39m\n\u001b[0;32m----> <a href='vscode-notebook-cell:/Users/punamtanvikshatriya/Documents/DSA_Training/week%205/pythonForEverybody.ipynb#ch0000015?line=1'>2</a>\u001b[0m x \u001b[39m=\u001b[39m \u001b[39mint\u001b[39;49m(name)\n\u001b[1;32m      <a href='vscode-notebook-cell:/Users/punamtanvikshatriya/Documents/DSA_Training/week%205/pythonForEverybody.ipynb#ch0000015?line=2'>3</a>\u001b[0m \u001b[39mprint\u001b[39m(x)\n",
      "\u001b[0;31mValueError\u001b[0m: invalid literal for int() with base 10: 'xyz'"
     ]
    }
   ],
   "source": [
    "name = 'xyz'\n",
    "x = int(name)\n",
    "print(x)"
   ]
  },
  {
   "cell_type": "code",
   "execution_count": 20,
   "metadata": {},
   "outputs": [
    {
     "name": "stdout",
     "output_type": "stream",
     "text": [
      "Hello\n",
      "Error! x =  -1\n",
      "Done!\n"
     ]
    }
   ],
   "source": [
    "# try-except\n",
    "\n",
    "name = 'abc'\n",
    "try:\n",
    "    print(\"Hello\")\n",
    "    x = int(name)\n",
    "    print(\"Bye\")\n",
    "except:\n",
    "    x = -1\n",
    "    print(\"Error! x = \",x)\n",
    "\n",
    "print(\"Done!\")"
   ]
  },
  {
   "cell_type": "code",
   "execution_count": 22,
   "metadata": {},
   "outputs": [
    {
     "name": "stdout",
     "output_type": "stream",
     "text": [
      "Not a number\n"
     ]
    }
   ],
   "source": [
    "n = input(\"Enter number\")\n",
    "try:\n",
    "    i = int(n)\n",
    "except:\n",
    "    i = -1\n",
    "if(i>0):\n",
    "    print(\"Number is \",n)\n",
    "else:\n",
    "    print(\"Not a number\")"
   ]
  },
  {
   "cell_type": "code",
   "execution_count": 24,
   "metadata": {},
   "outputs": [
    {
     "name": "stdout",
     "output_type": "stream",
     "text": [
      "w\n",
      " \n"
     ]
    }
   ],
   "source": [
    "x = \"Hello world\"\n",
    "print(max(x))\n",
    "print(min(x))"
   ]
  },
  {
   "cell_type": "code",
   "execution_count": 25,
   "metadata": {},
   "outputs": [
    {
     "name": "stdout",
     "output_type": "stream",
     "text": [
      "10\n"
     ]
    }
   ],
   "source": [
    "#functions\n",
    "\n",
    "def add(a,b):\n",
    "    return (a+b)\n",
    "\n",
    "ans = add(3,7)\n",
    "print(ans)"
   ]
  },
  {
   "cell_type": "code",
   "execution_count": 27,
   "metadata": {},
   "outputs": [
    {
     "name": "stdout",
     "output_type": "stream",
     "text": [
      "5\n",
      "4\n",
      "3\n",
      "2\n",
      "1\n",
      "0\n"
     ]
    }
   ],
   "source": [
    "#while loop\n",
    "\n",
    "n = 5\n",
    "while(n>0):\n",
    "    print(n)\n",
    "    n = n-1\n",
    "print(n)"
   ]
  },
  {
   "cell_type": "code",
   "execution_count": 32,
   "metadata": {},
   "outputs": [
    {
     "name": "stdout",
     "output_type": "stream",
     "text": [
      "1\n",
      "2\n",
      "Done!\n"
     ]
    }
   ],
   "source": [
    "#break\n",
    "while(1):\n",
    "    x = input('Enter number')\n",
    "    x = int(x)\n",
    "    if(x == 3):\n",
    "        break\n",
    "    print(x)\n",
    "print('Done!')"
   ]
  },
  {
   "cell_type": "code",
   "execution_count": 34,
   "metadata": {},
   "outputs": [
    {
     "name": "stdout",
     "output_type": "stream",
     "text": [
      "1\n",
      "2\n",
      "4\n",
      "Done!\n"
     ]
    }
   ],
   "source": [
    "#continue\n",
    "while(1):\n",
    "    x = input('Enter number')\n",
    "    x = int(x)\n",
    "    if(x == 3):\n",
    "        continue\n",
    "    if(x == 10):\n",
    "        break\n",
    "    print(x)\n",
    "print('Done!')"
   ]
  },
  {
   "cell_type": "code",
   "execution_count": 36,
   "metadata": {},
   "outputs": [
    {
     "name": "stdout",
     "output_type": "stream",
     "text": [
      "Number is 4\n",
      "Number is 5\n",
      "Number is 6\n",
      "Number is 7\n",
      "Done!\n"
     ]
    }
   ],
   "source": [
    "#definite loop\n",
    "\n",
    "for i in [4,5,6,7]:\n",
    "    print('Number is',i)\n",
    "print(\"Done!\")"
   ]
  },
  {
   "cell_type": "code",
   "execution_count": 37,
   "metadata": {},
   "outputs": [
    {
     "name": "stdout",
     "output_type": "stream",
     "text": [
      "77\n"
     ]
    }
   ],
   "source": [
    "#largest number\n",
    "large = 0\n",
    "for i in [9,41,12,3,77,15]:\n",
    "    if(i > large):\n",
    "        large = i\n",
    "print(large)"
   ]
  },
  {
   "cell_type": "code",
   "execution_count": 38,
   "metadata": {},
   "outputs": [
    {
     "name": "stdout",
     "output_type": "stream",
     "text": [
      "10\n",
      "42\n",
      "13\n",
      "4\n",
      "78\n",
      "16\n"
     ]
    }
   ],
   "source": [
    "# counting in loop\n",
    "t = 0\n",
    "for i in [9,41,12,3,77,15]:\n",
    "    t = i+1\n",
    "    print(t)"
   ]
  },
  {
   "cell_type": "code",
   "execution_count": 39,
   "metadata": {},
   "outputs": [
    {
     "name": "stdout",
     "output_type": "stream",
     "text": [
      "157\n"
     ]
    }
   ],
   "source": [
    "# summing in loop\n",
    "sum = 0\n",
    "for i in [9,41,12,3,77,15]:\n",
    "    sum = sum+i\n",
    "print(sum)"
   ]
  },
  {
   "cell_type": "code",
   "execution_count": 40,
   "metadata": {},
   "outputs": [
    {
     "name": "stdout",
     "output_type": "stream",
     "text": [
      "26.166666666666668\n"
     ]
    }
   ],
   "source": [
    "#average\n",
    "sum = 0\n",
    "count = 0\n",
    "for i in [9,41,12,3,77,15]:\n",
    "    sum = sum+i\n",
    "    count = count+1\n",
    "print(sum/count)"
   ]
  },
  {
   "cell_type": "code",
   "execution_count": 41,
   "metadata": {},
   "outputs": [
    {
     "name": "stdout",
     "output_type": "stream",
     "text": [
      "Numbers greater than 20 are\n",
      "41\n",
      "77\n"
     ]
    }
   ],
   "source": [
    "#filtering in loop\n",
    "print(\"Numbers greater than 20 are\")\n",
    "for i in [9,41,12,3,77,15]:\n",
    "    if(i>20):\n",
    "        print(i)"
   ]
  },
  {
   "cell_type": "code",
   "execution_count": 43,
   "metadata": {},
   "outputs": [
    {
     "name": "stdout",
     "output_type": "stream",
     "text": [
      "False 9\n",
      "False 41\n",
      "False 12\n",
      "True 3\n",
      "True 77\n",
      "True 15\n"
     ]
    }
   ],
   "source": [
    "#search using boolean variable\n",
    "found = False\n",
    "for i in [9,41,12,3,77,15]:\n",
    "    if(i==3):\n",
    "        found = True\n",
    "    print(found,i)"
   ]
  },
  {
   "cell_type": "code",
   "execution_count": 48,
   "metadata": {},
   "outputs": [
    {
     "name": "stdout",
     "output_type": "stream",
     "text": [
      "3\n"
     ]
    }
   ],
   "source": [
    "#smallest number\n",
    "small = None    #None is a null value\n",
    "for i in [9,41,12,3,77,15]:\n",
    "    if(small == None):\n",
    "        small = i\n",
    "    elif(i < small):\n",
    "        small = i\n",
    "print(small)"
   ]
  },
  {
   "cell_type": "code",
   "execution_count": 53,
   "metadata": {},
   "outputs": [
    {
     "name": "stdout",
     "output_type": "stream",
     "text": [
      "b\n",
      "c\n"
     ]
    }
   ],
   "source": [
    "x = 'abc'\n",
    "print(x[1])\n",
    "print(x[-1])"
   ]
  },
  {
   "cell_type": "code",
   "execution_count": 55,
   "metadata": {},
   "outputs": [
    {
     "name": "stdout",
     "output_type": "stream",
     "text": [
      "6\n"
     ]
    }
   ],
   "source": [
    "x = 'searce'\n",
    "print(len(x))"
   ]
  },
  {
   "cell_type": "code",
   "execution_count": 58,
   "metadata": {},
   "outputs": [
    {
     "name": "stdout",
     "output_type": "stream",
     "text": [
      "0 s\n",
      "1 e\n",
      "2 a\n",
      "3 r\n",
      "4 c\n",
      "5 e\n"
     ]
    }
   ],
   "source": [
    "x = 'searce'\n",
    "i = 0\n",
    "while(i<len(x)):\n",
    "    print(i,x[i])\n",
    "    i=i+1"
   ]
  },
  {
   "cell_type": "code",
   "execution_count": 61,
   "metadata": {},
   "outputs": [
    {
     "name": "stdout",
     "output_type": "stream",
     "text": [
      "s\n",
      "e\n",
      "a\n",
      "r\n",
      "c\n",
      "e\n"
     ]
    }
   ],
   "source": [
    "x = 'searce'\n",
    "for i in x:\n",
    "    print(i)"
   ]
  },
  {
   "cell_type": "code",
   "execution_count": 62,
   "metadata": {},
   "outputs": [
    {
     "name": "stdout",
     "output_type": "stream",
     "text": [
      "Count of a is 2\n"
     ]
    }
   ],
   "source": [
    "# looping & counting \n",
    "s = 'madam'\n",
    "count = 0\n",
    "for i in s:\n",
    "    if(i=='a'):\n",
    "        count = count+1\n",
    "print('Count of a is',count )"
   ]
  },
  {
   "cell_type": "code",
   "execution_count": 65,
   "metadata": {},
   "outputs": [
    {
     "name": "stdout",
     "output_type": "stream",
     "text": [
      "Hello\n",
      "llo World\n",
      "Hello World\n",
      "dlroW olleH\n"
     ]
    }
   ],
   "source": [
    "# slicing\n",
    "s = 'Hello World'\n",
    "print(s[0:5])\n",
    "print(s[2:])\n",
    "print(s[:])\n",
    "print(s[::-1])"
   ]
  },
  {
   "cell_type": "code",
   "execution_count": 66,
   "metadata": {},
   "outputs": [
    {
     "name": "stdout",
     "output_type": "stream",
     "text": [
      "helloworld\n"
     ]
    }
   ],
   "source": [
    "a = 'hello'\n",
    "b = a+'world'\n",
    "print(b)"
   ]
  },
  {
   "cell_type": "code",
   "execution_count": 72,
   "metadata": {},
   "outputs": [
    {
     "name": "stdout",
     "output_type": "stream",
     "text": [
      "True\n",
      "Not found\n"
     ]
    }
   ],
   "source": [
    "a = 'hello'\n",
    "print('e' in a)\n",
    "\n",
    "if('z' in a):\n",
    "    print('Found')\n",
    "else:\n",
    "    print('Not found')\n"
   ]
  },
  {
   "cell_type": "code",
   "execution_count": 77,
   "metadata": {},
   "outputs": [
    {
     "name": "stdout",
     "output_type": "stream",
     "text": [
      "Hello World\n",
      "hello world\n",
      "HELLO WORLD\n"
     ]
    }
   ],
   "source": [
    "a = 'Hello World'\n",
    "print(a)\n",
    "t = a.lower()\n",
    "print(t)\n",
    "t = a.upper()\n",
    "print(t)"
   ]
  },
  {
   "cell_type": "code",
   "execution_count": 76,
   "metadata": {},
   "outputs": [
    {
     "name": "stdout",
     "output_type": "stream",
     "text": [
      "3\n",
      "-1\n"
     ]
    }
   ],
   "source": [
    "a = 'madam'\n",
    "pos = a.find('am')\n",
    "print(pos)\n",
    "\n",
    "pos = a.find('it')\n",
    "print(pos)"
   ]
  },
  {
   "cell_type": "code",
   "execution_count": 79,
   "metadata": {},
   "outputs": [
    {
     "name": "stdout",
     "output_type": "stream",
     "text": [
      "Hello World\n",
      "Hezzo Worzd\n"
     ]
    }
   ],
   "source": [
    "# replace\n",
    "s = 'Hello World'\n",
    "t = s.replace('l','z')\n",
    "print(s)\n",
    "print(t)"
   ]
  },
  {
   "cell_type": "code",
   "execution_count": 82,
   "metadata": {},
   "outputs": [
    {
     "data": {
      "text/plain": [
       "'Hello World     '"
      ]
     },
     "execution_count": 82,
     "metadata": {},
     "output_type": "execute_result"
    }
   ],
   "source": [
    "s = '   Hello World     '\n",
    "s.lstrip()"
   ]
  },
  {
   "cell_type": "code",
   "execution_count": 83,
   "metadata": {},
   "outputs": [
    {
     "data": {
      "text/plain": [
       "'   Hello World'"
      ]
     },
     "execution_count": 83,
     "metadata": {},
     "output_type": "execute_result"
    }
   ],
   "source": [
    "s = '   Hello World    '\n",
    "s.rstrip()"
   ]
  },
  {
   "cell_type": "code",
   "execution_count": 84,
   "metadata": {},
   "outputs": [
    {
     "data": {
      "text/plain": [
       "'Hello World'"
      ]
     },
     "execution_count": 84,
     "metadata": {},
     "output_type": "execute_result"
    }
   ],
   "source": [
    "s = '   Hello World    '\n",
    "s.strip()"
   ]
  },
  {
   "cell_type": "code",
   "execution_count": 87,
   "metadata": {},
   "outputs": [
    {
     "name": "stdout",
     "output_type": "stream",
     "text": [
      "6\n",
      "16\n",
      "gmail.com\n"
     ]
    }
   ],
   "source": [
    "# parsing & extracting\n",
    "s = 'abcxyz@gmail.com Mon Feb 7 2022'\n",
    "pos = s.find('@')\n",
    "print(pos)\n",
    "\n",
    "p = s.find(' ')\n",
    "print(p)\n",
    "\n",
    "t = s[pos+1:p]\n",
    "print(t)"
   ]
  },
  {
   "cell_type": "code",
   "execution_count": 90,
   "metadata": {},
   "outputs": [
    {
     "name": "stdout",
     "output_type": "stream",
     "text": [
      "a\n",
      "b\n",
      "3\n"
     ]
    }
   ],
   "source": [
    "x = 'a\\nb'\n",
    "print(x)\n",
    "print(len(x))"
   ]
  },
  {
   "cell_type": "code",
   "execution_count": 91,
   "metadata": {},
   "outputs": [
    {
     "name": "stdout",
     "output_type": "stream",
     "text": [
      "Lorem ipsum dolor sit amet, consectetur adipiscing elit, sed do eiusmod tempor incididunt ut labore et dolore magna aliqua. Ut enim ad minim veniam, quis nostrud exercitation ullamco laboris nisi ut aliquip ex ea commodo consequat. Duis aute irure dolor in reprehenderit in voluptate velit esse cillum dolore eu fugiat nulla pariatur. Excepteur sint occaecat cupidatat non proident, sunt in culpa qui officia deserunt mollit anim id est laborum.\n",
      "\n",
      "\n",
      "\n",
      "Lorem ipsum dolor sit amet, consectetur adipiscing elit, sed do eiusmod tempor incididunt ut labore et dolore magna aliqua. Ut enim ad minim veniam, quis nostrud exercitation ullamco laboris nisi ut aliquip ex ea commodo consequat. Duis aute irure dolor in reprehenderit in voluptate velit esse cillum dolore eu fugiat nulla pariatur. Excepteur sint occaecat cupidatat non proident, sunt in culpa qui officia deserunt mollit anim id est laborum.\n",
      "\n",
      "\n",
      "\n",
      "Lorem ipsum dolor sit amet, consectetur adipiscing elit, sed do eiusmod tempor incididunt ut labore et dolore magna aliqua. Ut enim ad minim veniam, quis nostrud exercitation ullamco laboris nisi ut aliquip ex ea commodo consequat. Duis aute irure dolor in reprehenderit in voluptate velit esse cillum dolore eu fugiat nulla pariatur. Excepteur sint occaecat cupidatat non proident, sunt in culpa qui officia deserunt mollit anim id est laborum.Lorem ipsum dolor sit amet, consectetur adipiscing elit, sed do eiusmod tempor incididunt ut labore et dolore magna aliqua. Ut enim ad minim veniam, quis nostrud exercitation ullamco laboris nisi ut aliquip ex ea commodo consequat. Duis aute irure dolor in reprehenderit in voluptate velit esse cillum dolore eu fugiat nulla pariatur. Excepteur sint occaecat cupidatat non proident, sunt in culpa qui officia deserunt mollit anim id est laborum.\n"
     ]
    }
   ],
   "source": [
    "# reading file\n",
    "f = open('sample.txt')\n",
    "for i in f: \n",
    "    print(i)"
   ]
  },
  {
   "cell_type": "code",
   "execution_count": 93,
   "metadata": {},
   "outputs": [
    {
     "name": "stdout",
     "output_type": "stream",
     "text": [
      "5\n"
     ]
    }
   ],
   "source": [
    "# counting lines in file\n",
    "f = open('sample.txt')\n",
    "count = 0\n",
    "for i in f: \n",
    "    count = count+1\n",
    "print(count)"
   ]
  },
  {
   "cell_type": "code",
   "execution_count": 94,
   "metadata": {},
   "outputs": [
    {
     "name": "stdout",
     "output_type": "stream",
     "text": [
      "1784\n"
     ]
    }
   ],
   "source": [
    "# reading whole file\n",
    "f = open('sample.txt')\n",
    "i = f.read()\n",
    "print(len(i))"
   ]
  },
  {
   "cell_type": "code",
   "execution_count": 98,
   "metadata": {},
   "outputs": [
    {
     "name": "stdout",
     "output_type": "stream",
     "text": [
      "Lorem ipsum dolor sit amet, consectetur adipiscing elit, sed do eiusmod tempor incididunt ut labore et dolore magna aliqua. Ut enim ad minim veniam, quis nostrud exercitation ullamco laboris nisi ut aliquip ex ea commodo consequat. Duis aute irure dolor in reprehenderit in voluptate velit esse cillum dolore eu fugiat nulla pariatur. Excepteur sint occaecat cupidatat non proident, sunt in culpa qui officia deserunt mollit anim id est laborum.\n",
      "\n",
      "Lorem ipsum dolor sit amet, consectetur adipiscing elit, sed do eiusmod tempor incididunt ut labore et dolore magna aliqua. Ut enim ad minim veniam, quis nostrud exercitation ullamco laboris nisi ut aliquip ex ea commodo consequat. Duis aute irure dolor in reprehenderit in voluptate velit esse cillum dolore eu fugiat nulla pariatur. Excepteur sint occaecat cupidatat non proident, sunt in culpa qui officia deserunt mollit anim id est laborum.\n",
      "\n",
      "Lorem ipsum dolor sit amet, consectetur adipiscing elit, sed do eiusmod tempor incididunt ut labore et dolore magna aliqua. Ut enim ad minim veniam, quis nostrud exercitation ullamco laboris nisi ut aliquip ex ea commodo consequat. Duis aute irure dolor in reprehenderit in voluptate velit esse cillum dolore eu fugiat nulla pariatur. Excepteur sint occaecat cupidatat non proident, sunt in culpa qui officia deserunt mollit anim id est laborum.Lorem ipsum dolor sit amet, consectetur adipiscing elit, sed do eiusmod tempor incididunt ut labore et dolore magna aliqua. Ut enim ad minim veniam, quis nostrud exercitation ullamco laboris nisi ut aliquip ex ea commodo consequat. Duis aute irure dolor in reprehenderit in voluptate velit esse cillum dolore eu fugiat nulla pariatur. Excepteur sint occaecat cupidatat non proident, sunt in culpa qui officia deserunt mollit anim id est laborum.\n"
     ]
    }
   ],
   "source": [
    "# searching through a file\n",
    "f = open('sample.txt')\n",
    "i = i.rstrip()\n",
    "for i in f: \n",
    "    if i.startswith('Lorem'):\n",
    "        print(i)"
   ]
  },
  {
   "cell_type": "code",
   "execution_count": 100,
   "metadata": {},
   "outputs": [
    {
     "name": "stdout",
     "output_type": "stream",
     "text": [
      "FIle not found!!\n",
      "0\n"
     ]
    }
   ],
   "source": [
    "n = input(\"ENter file name\")\n",
    "try:\n",
    "    f = open(n)\n",
    "except:\n",
    "    print(\"FIle not found!!\")\n",
    "    quit()\n",
    "count = 0\n",
    "for i in f: \n",
    "    count = count+1\n",
    "print(count)"
   ]
  },
  {
   "cell_type": "code",
   "execution_count": 3,
   "metadata": {},
   "outputs": [
    {
     "name": "stdout",
     "output_type": "stream",
     "text": [
      "[1, 2, 3]\n",
      "[1, 2, 'abc']\n",
      "[]\n"
     ]
    }
   ],
   "source": [
    "print([1,2,3])\n",
    "print([1,2,'abc'])\n",
    "print([])"
   ]
  },
  {
   "cell_type": "code",
   "execution_count": 9,
   "metadata": {},
   "outputs": [
    {
     "name": "stdout",
     "output_type": "stream",
     "text": [
      "jin\n"
     ]
    },
    {
     "data": {
      "text/plain": [
       "3"
      ]
     },
     "execution_count": 9,
     "metadata": {},
     "output_type": "execute_result"
    }
   ],
   "source": [
    "a = ['tina', 'jin', 'rita']\n",
    "print(a[1])\n",
    "len(a)"
   ]
  },
  {
   "cell_type": "code",
   "execution_count": 6,
   "metadata": {},
   "outputs": [
    {
     "name": "stdout",
     "output_type": "stream",
     "text": [
      "[1, 2, 3, 4, 5]\n",
      "[1, 2, 21, 4, 5]\n"
     ]
    }
   ],
   "source": [
    "# lists are mutable - we can change the element of list using index operator\n",
    "\n",
    "x = [1,2,3,4,5]\n",
    "print(x)\n",
    "x[2] = 21\n",
    "print(x)"
   ]
  },
  {
   "cell_type": "code",
   "execution_count": 8,
   "metadata": {},
   "outputs": [
    {
     "name": "stdout",
     "output_type": "stream",
     "text": [
      "madam\n"
     ]
    },
    {
     "ename": "TypeError",
     "evalue": "'str' object does not support item assignment",
     "output_type": "error",
     "traceback": [
      "\u001b[0;31m---------------------------------------------------------------------------\u001b[0m",
      "\u001b[0;31mTypeError\u001b[0m                                 Traceback (most recent call last)",
      "\u001b[1;32m/Users/punamtanvikshatriya/Documents/DSA_Training/week 5/pythonForEverybody.ipynb Cell 7'\u001b[0m in \u001b[0;36m<module>\u001b[0;34m\u001b[0m\n\u001b[1;32m      <a href='vscode-notebook-cell:/Users/punamtanvikshatriya/Documents/DSA_Training/week%205/pythonForEverybody.ipynb#ch0000007?line=2'>3</a>\u001b[0m a \u001b[39m=\u001b[39m \u001b[39m'\u001b[39m\u001b[39mmadam\u001b[39m\u001b[39m'\u001b[39m\n\u001b[1;32m      <a href='vscode-notebook-cell:/Users/punamtanvikshatriya/Documents/DSA_Training/week%205/pythonForEverybody.ipynb#ch0000007?line=3'>4</a>\u001b[0m \u001b[39mprint\u001b[39m(a)\n\u001b[0;32m----> <a href='vscode-notebook-cell:/Users/punamtanvikshatriya/Documents/DSA_Training/week%205/pythonForEverybody.ipynb#ch0000007?line=4'>5</a>\u001b[0m a[\u001b[39m0\u001b[39m] \u001b[39m=\u001b[39m \u001b[39m\"\u001b[39m\u001b[39mk\u001b[39m\u001b[39m\"\u001b[39m\n\u001b[1;32m      <a href='vscode-notebook-cell:/Users/punamtanvikshatriya/Documents/DSA_Training/week%205/pythonForEverybody.ipynb#ch0000007?line=5'>6</a>\u001b[0m \u001b[39mprint\u001b[39m(a)\n",
      "\u001b[0;31mTypeError\u001b[0m: 'str' object does not support item assignment"
     ]
    }
   ],
   "source": [
    "# strings are immutable - contents of string cannot be changed \n",
    "\n",
    "a = 'madam'\n",
    "print(a)\n",
    "a[0] = \"k\"\n",
    "print(a)"
   ]
  },
  {
   "cell_type": "code",
   "execution_count": 12,
   "metadata": {},
   "outputs": [
    {
     "name": "stdout",
     "output_type": "stream",
     "text": [
      "range(0, 5)\n",
      "range(0, 3)\n"
     ]
    }
   ],
   "source": [
    "# range - returns a range of numbers that range from zero to one less than the parameter\n",
    "\n",
    "print(range(5))\n",
    "a = ['a','b','c']\n",
    "print(range(len(a)))"
   ]
  },
  {
   "cell_type": "code",
   "execution_count": 13,
   "metadata": {},
   "outputs": [
    {
     "name": "stdout",
     "output_type": "stream",
     "text": [
      "[1, 2, 3, 4, 5, 6]\n"
     ]
    }
   ],
   "source": [
    "# concatenating lists\n",
    "a = [1,2,3]\n",
    "b = [4,5,6]\n",
    "print(a+b)"
   ]
  },
  {
   "cell_type": "code",
   "execution_count": 19,
   "metadata": {},
   "outputs": [
    {
     "name": "stdout",
     "output_type": "stream",
     "text": [
      "[2, 3, 4]\n",
      "[1, 2, 3, 4, 5]\n",
      "True\n",
      "False\n"
     ]
    }
   ],
   "source": [
    "a = [1,2,3,4,5,6,7]\n",
    "print(a[1:4])\n",
    "print(a[:5])\n",
    "print(3 in a)\n",
    "print(10 in a)"
   ]
  },
  {
   "cell_type": "code",
   "execution_count": 18,
   "metadata": {},
   "outputs": [
    {
     "name": "stdout",
     "output_type": "stream",
     "text": [
      "['book', 21]\n",
      "['book', 21, 24]\n"
     ]
    }
   ],
   "source": [
    "l = list()\n",
    "l.append('book')\n",
    "l.append(21)\n",
    "print(l)\n",
    "l.append(24)\n",
    "print(l)"
   ]
  },
  {
   "cell_type": "code",
   "execution_count": 21,
   "metadata": {},
   "outputs": [
    {
     "name": "stdout",
     "output_type": "stream",
     "text": [
      "['rm', 'tk', 'uc', 'yg']\n"
     ]
    }
   ],
   "source": [
    "a = ['uc','yg','rm','tk']\n",
    "a.sort()\n",
    "print(a)"
   ]
  },
  {
   "cell_type": "code",
   "execution_count": 25,
   "metadata": {},
   "outputs": [
    {
     "name": "stdout",
     "output_type": "stream",
     "text": [
      "['Welcome', 'to', 'Searce']\n",
      "3\n",
      "Welcome\n",
      "Welcome\n",
      "to\n",
      "Searce\n"
     ]
    }
   ],
   "source": [
    "# split\n",
    "a = 'Welcome to Searce'\n",
    "l = a.split()\n",
    "print(l)\n",
    "print(len(l))\n",
    "print(l[0])\n",
    "for i in l:\n",
    "    print(i)"
   ]
  },
  {
   "cell_type": "code",
   "execution_count": 27,
   "metadata": {},
   "outputs": [
    {
     "name": "stdout",
     "output_type": "stream",
     "text": [
      "['one;two;three']\n",
      "['one', 'two', 'three']\n"
     ]
    }
   ],
   "source": [
    "a = 'one;two;three'\n",
    "l = a.split()\n",
    "print(l)\n",
    "\n",
    "x = a.split(';')\n",
    "print(x)"
   ]
  },
  {
   "cell_type": "code",
   "execution_count": 28,
   "metadata": {},
   "outputs": [
    {
     "name": "stdout",
     "output_type": "stream",
     "text": [
      "['From', 'abcxyz@gmail.com', 'Mon', 'Feb', '7', '2022']\n"
     ]
    }
   ],
   "source": [
    "a = 'From abcxyz@gmail.com Mon Feb 7 2022'\n",
    "l = a.split()\n",
    "print(l)\n"
   ]
  },
  {
   "cell_type": "code",
   "execution_count": 32,
   "metadata": {},
   "outputs": [
    {
     "name": "stdout",
     "output_type": "stream",
     "text": [
      "['abcxyz', 'gmail.com']\n",
      "gmail.com\n"
     ]
    }
   ],
   "source": [
    "a = 'From abcxyz@gmail.com Mon Feb 7 2022'\n",
    "l = a.split()\n",
    "email = l[1]\n",
    "w = email.split('@')\n",
    "print(w)\n",
    "print(w[1])"
   ]
  },
  {
   "cell_type": "code",
   "execution_count": 44,
   "metadata": {},
   "outputs": [
    {
     "name": "stdout",
     "output_type": "stream",
     "text": [
      "Sat\n",
      "Fri\n",
      "Fri\n",
      "Fri\n",
      "Fri\n",
      "Fri\n",
      "Fri\n",
      "Fri\n",
      "Fri\n",
      "Fri\n",
      "Fri\n",
      "Fri\n",
      "Fri\n",
      "Fri\n",
      "Fri\n",
      "Fri\n",
      "Fri\n",
      "Fri\n",
      "Fri\n",
      "Fri\n",
      "Fri\n",
      "Thu\n",
      "Thu\n",
      "Thu\n",
      "Thu\n",
      "Thu\n",
      "Thu\n"
     ]
    }
   ],
   "source": [
    "f = open('text.txt')\n",
    "for i in f: \n",
    "    i = i.rstrip()\n",
    "    # if(i==' '):\n",
    "    #     print('Blank line')\n",
    "    #     continue\n",
    "    l = i.split()\n",
    "    # print(\"Words:\",l)\n",
    "    # guardian in a compound statement\n",
    "    if(len(l)<3 or l[0] != 'From'):\n",
    "        continue\n",
    "    print(l[2])"
   ]
  },
  {
   "cell_type": "code",
   "execution_count": 49,
   "metadata": {},
   "outputs": [
    {
     "name": "stdout",
     "output_type": "stream",
     "text": [
      "{'money': 21, 'chocolate': 5, 'hat': 10}\n",
      "21\n",
      "{'money': 21, 'chocolate': 5, 'hat': 15}\n"
     ]
    }
   ],
   "source": [
    "d = dict()\n",
    "d['money'] = 21\n",
    "d['chocolate'] = 5\n",
    "d['hat'] = 10\n",
    "print(d)\n",
    "print(d['money'])\n",
    "d['hat'] = d['hat']+5\n",
    "print(d)"
   ]
  },
  {
   "cell_type": "code",
   "execution_count": 52,
   "metadata": {},
   "outputs": [
    {
     "name": "stdout",
     "output_type": "stream",
     "text": [
      "{'abc': 1, 'pqr': 5}\n",
      "{}\n"
     ]
    }
   ],
   "source": [
    "d = {'abc':1, 'pqr':5}\n",
    "print(d)\n",
    "\n",
    "dd = {}\n",
    "print(dd)"
   ]
  },
  {
   "cell_type": "code",
   "execution_count": 82,
   "metadata": {},
   "outputs": [
    {
     "name": "stdout",
     "output_type": "stream",
     "text": [
      "{'rm': 1, 'ok': 1, 'tk': 1}\n"
     ]
    }
   ],
   "source": [
    "d = {}\n",
    "name = {'tk','rm','ok'}\n",
    "for i in name:\n",
    "    d[i] = d.get(i,0)+1\n",
    "print(d)"
   ]
  },
  {
   "cell_type": "code",
   "execution_count": 80,
   "metadata": {},
   "outputs": [
    {
     "name": "stdout",
     "output_type": "stream",
     "text": [
      "Enter text\n",
      "Words:  ['the', 'robot', 'is', 'in', 'the', 'car']\n",
      "Counting...\n",
      "Counts {'the': 2, 'robot': 1, 'is': 1, 'in': 1, 'car': 1}\n"
     ]
    }
   ],
   "source": [
    "d = {}\n",
    "print('Enter text')\n",
    "line = input('')\n",
    "words = line.split()\n",
    "print('Words: ',words)\n",
    "print('Counting...')\n",
    "for i in words:\n",
    "    d[i] = d.get(i,0)+1\n",
    "print('Counts',d)"
   ]
  },
  {
   "cell_type": "code",
   "execution_count": 83,
   "metadata": {},
   "outputs": [
    {
     "name": "stdout",
     "output_type": "stream",
     "text": [
      "the 2\n",
      "robot 1\n",
      "is 1\n",
      "in 1\n",
      "car 1\n"
     ]
    }
   ],
   "source": [
    "d = {'the': 2, 'robot': 1, 'is': 1, 'in': 1, 'car': 1}\n",
    "for i in d:\n",
    "    print(i,d[i])"
   ]
  },
  {
   "cell_type": "code",
   "execution_count": 87,
   "metadata": {},
   "outputs": [
    {
     "name": "stdout",
     "output_type": "stream",
     "text": [
      "['the', 'robot', 'is', 'in', 'car']\n",
      "dict_keys(['the', 'robot', 'is', 'in', 'car'])\n",
      "dict_values([2, 1, 1, 1, 1])\n",
      "dict_items([('the', 2), ('robot', 1), ('is', 1), ('in', 1), ('car', 1)])\n"
     ]
    }
   ],
   "source": [
    "d = {'the': 2, 'robot': 1, 'is': 1, 'in': 1, 'car': 1}\n",
    "print(list(d))\n",
    "print(d.keys())\n",
    "print(d.values())\n",
    "print(d.items())"
   ]
  },
  {
   "cell_type": "code",
   "execution_count": 89,
   "metadata": {},
   "outputs": [
    {
     "name": "stdout",
     "output_type": "stream",
     "text": [
      "the 2\n",
      "robot 1\n",
      "is 1\n",
      "in 1\n",
      "car 1\n"
     ]
    }
   ],
   "source": [
    "d = {'the': 2, 'robot': 1, 'is': 1, 'in': 1, 'car': 1}\n",
    "for i,j in d.items():\n",
    "    print(i,j)"
   ]
  },
  {
   "cell_type": "code",
   "execution_count": 93,
   "metadata": {},
   "outputs": [
    {
     "name": "stdout",
     "output_type": "stream",
     "text": [
      "in 12\n"
     ]
    }
   ],
   "source": [
    "n = input('Enter file name:')\n",
    "f = open(n)\n",
    "\n",
    "d = {}\n",
    "for i in f: \n",
    "    words = i.split()\n",
    "    for w in words:\n",
    "        d[w] = d.get(w,0)+1\n",
    "# print(d)\n",
    "\n",
    "maxCount=0\n",
    "maxWord = 0\n",
    "for i,j in d.items():\n",
    "    if maxCount is None or j>maxCount:\n",
    "        maxCount = j\n",
    "        maxWord = i\n",
    "print(maxWord,maxCount)"
   ]
  },
  {
   "cell_type": "code",
   "execution_count": 106,
   "metadata": {},
   "outputs": [
    {
     "name": "stdout",
     "output_type": "stream",
     "text": [
      "Jan 352\n"
     ]
    }
   ],
   "source": [
    "n = input('Enter filename')\n",
    "if(len(n)<1):\n",
    "    n = 'clown.txt'\n",
    "f = open(n)\n",
    "\n",
    "d = {}\n",
    "for i in f: \n",
    "    i.rstrip()\n",
    "    # print(i)\n",
    "    words = i.split()\n",
    "    # print('Words:',words)\n",
    "    for w in words:\n",
    "        d[w] = d.get(w,0)+1\n",
    "        \n",
    "# print(d)\n",
    "largest = -1\n",
    "word = None\n",
    "for i,j in d.items():\n",
    "    if j>largest:\n",
    "        word = i\n",
    "        largest = j\n",
    "print(word,largest)"
   ]
  },
  {
   "cell_type": "code",
   "execution_count": 108,
   "metadata": {},
   "outputs": [
    {
     "name": "stdout",
     "output_type": "stream",
     "text": [
      "tk\n",
      "24\n"
     ]
    }
   ],
   "source": [
    "# tuples\n",
    "a = ('rm','tk','uc')\n",
    "print(a[1])\n",
    "\n",
    "b = (21,24,9)\n",
    "print(max(b))"
   ]
  },
  {
   "cell_type": "code",
   "execution_count": 109,
   "metadata": {},
   "outputs": [
    {
     "ename": "TypeError",
     "evalue": "'tuple' object does not support item assignment",
     "output_type": "error",
     "traceback": [
      "\u001b[0;31m---------------------------------------------------------------------------\u001b[0m",
      "\u001b[0;31mTypeError\u001b[0m                                 Traceback (most recent call last)",
      "\u001b[1;32m/Users/punamtanvikshatriya/Documents/DSA_Training/week 5/pythonForEverybody.ipynb Cell 52'\u001b[0m in \u001b[0;36m<module>\u001b[0;34m\u001b[0m\n\u001b[1;32m      <a href='vscode-notebook-cell:/Users/punamtanvikshatriya/Documents/DSA_Training/week%205/pythonForEverybody.ipynb#ch0000056?line=0'>1</a>\u001b[0m \u001b[39m# tuples are immutable (contents cannot be altered)\u001b[39;00m\n\u001b[1;32m      <a href='vscode-notebook-cell:/Users/punamtanvikshatriya/Documents/DSA_Training/week%205/pythonForEverybody.ipynb#ch0000056?line=1'>2</a>\u001b[0m a \u001b[39m=\u001b[39m (\u001b[39m1\u001b[39m,\u001b[39m2\u001b[39m,\u001b[39m3\u001b[39m)\n\u001b[0;32m----> <a href='vscode-notebook-cell:/Users/punamtanvikshatriya/Documents/DSA_Training/week%205/pythonForEverybody.ipynb#ch0000056?line=2'>3</a>\u001b[0m a[\u001b[39m1\u001b[39m] \u001b[39m=\u001b[39m \u001b[39m4\u001b[39m\n",
      "\u001b[0;31mTypeError\u001b[0m: 'tuple' object does not support item assignment"
     ]
    }
   ],
   "source": [
    "# tuples are immutable (contents cannot be altered)\n",
    "a = (1,2,3)\n",
    "a[1] = 4"
   ]
  },
  {
   "cell_type": "code",
   "execution_count": 110,
   "metadata": {},
   "outputs": [
    {
     "ename": "AttributeError",
     "evalue": "'tuple' object has no attribute 'sort'",
     "output_type": "error",
     "traceback": [
      "\u001b[0;31m---------------------------------------------------------------------------\u001b[0m",
      "\u001b[0;31mAttributeError\u001b[0m                            Traceback (most recent call last)",
      "\u001b[1;32m/Users/punamtanvikshatriya/Documents/DSA_Training/week 5/pythonForEverybody.ipynb Cell 55'\u001b[0m in \u001b[0;36m<module>\u001b[0;34m\u001b[0m\n\u001b[1;32m      <a href='vscode-notebook-cell:/Users/punamtanvikshatriya/Documents/DSA_Training/week%205/pythonForEverybody.ipynb#ch0000060?line=0'>1</a>\u001b[0m a \u001b[39m=\u001b[39m (\u001b[39m3\u001b[39m,\u001b[39m5\u001b[39m,\u001b[39m1\u001b[39m,\u001b[39m7\u001b[39m)\n\u001b[0;32m----> <a href='vscode-notebook-cell:/Users/punamtanvikshatriya/Documents/DSA_Training/week%205/pythonForEverybody.ipynb#ch0000060?line=1'>2</a>\u001b[0m a\u001b[39m.\u001b[39;49msort()\n",
      "\u001b[0;31mAttributeError\u001b[0m: 'tuple' object has no attribute 'sort'"
     ]
    }
   ],
   "source": [
    "a = (3,5,1,7)\n",
    "a.sort()"
   ]
  },
  {
   "cell_type": "code",
   "execution_count": 112,
   "metadata": {},
   "outputs": [
    {
     "name": "stdout",
     "output_type": "stream",
     "text": [
      "21\n",
      "24\n"
     ]
    }
   ],
   "source": [
    "(a,b) = (21,24)\n",
    "print(a)\n",
    "print(b)"
   ]
  },
  {
   "cell_type": "code",
   "execution_count": 116,
   "metadata": {},
   "outputs": [
    {
     "name": "stdout",
     "output_type": "stream",
     "text": [
      "rita 2\n",
      "tinu 4\n",
      "dict_items([('rita', 2), ('tinu', 4)])\n"
     ]
    }
   ],
   "source": [
    "d = {'rita':2, 'tinu':4}\n",
    "for i,j in d.items():\n",
    "    print(i,j)\n",
    "t = d.items()\n",
    "print(t)"
   ]
  },
  {
   "cell_type": "code",
   "execution_count": 118,
   "metadata": {},
   "outputs": [
    {
     "name": "stdout",
     "output_type": "stream",
     "text": [
      "True\n",
      "False\n"
     ]
    }
   ],
   "source": [
    "print((0,1)<(21,2))\n",
    "print(('abc','tt')> ('ff','hh'))"
   ]
  },
  {
   "cell_type": "code",
   "execution_count": 123,
   "metadata": {},
   "outputs": [
    {
     "name": "stdout",
     "output_type": "stream",
     "text": [
      "dict_items([('tk', 21), ('rm', 24), ('uc', 9)])\n",
      "rm 24\n",
      "tk 21\n",
      "uc 9\n"
     ]
    }
   ],
   "source": [
    "d = {'tk':21, 'rm':24, 'uc':9}\n",
    "print(d.items())\n",
    "sorted(d.items())\n",
    "for i,j in sorted(d.items()):\n",
    "    print(i,j)"
   ]
  },
  {
   "cell_type": "code",
   "execution_count": 129,
   "metadata": {},
   "outputs": [
    {
     "name": "stdout",
     "output_type": "stream",
     "text": [
      "[(21, 'tk'), (24, 'rm'), (9, 'uc')]\n",
      "[(24, 'rm'), (21, 'tk'), (9, 'uc')]\n",
      "[(9, 'uc'), (21, 'tk'), (24, 'rm')]\n"
     ]
    }
   ],
   "source": [
    "# sort by values instead of keys\n",
    "d = {'tk':21, 'rm':24, 'uc':9}\n",
    "l = list()\n",
    "for i,j in d.items():\n",
    "    l.append((j,i))\n",
    "print(l)\n",
    "l = sorted(l,reverse=True)\n",
    "print(l)\n",
    "l = sorted(l)\n",
    "print(l)"
   ]
  },
  {
   "cell_type": "code",
   "execution_count": 134,
   "metadata": {},
   "outputs": [
    {
     "name": "stdout",
     "output_type": "stream",
     "text": [
      "Jan 352\n",
      "2008 324\n",
      "by 245\n",
      "Received: 243\n",
      "-0500 219\n",
      "from 218\n",
      "4 203\n",
      "with 194\n",
      "Fri, 183\n",
      "id 136\n"
     ]
    }
   ],
   "source": [
    "# top 10 common words\n",
    "\n",
    "n = input('Enter filename')\n",
    "f = open(n)\n",
    "d = {}\n",
    "for line in f: \n",
    "    words = line.split()\n",
    "    for w in words:\n",
    "        d[w] = d.get(w,0)+1\n",
    "# print(d)\n",
    "\n",
    "l = []\n",
    "for i,j in d.items():\n",
    "    temp = (j,i)\n",
    "    l.append(temp)\n",
    "\n",
    "l = sorted(l,reverse=True)\n",
    "\n",
    "for i,j in l[:10]:\n",
    "    print(j,i)\n"
   ]
  },
  {
   "cell_type": "code",
   "execution_count": 135,
   "metadata": {},
   "outputs": [
    {
     "name": "stdout",
     "output_type": "stream",
     "text": [
      "[(1, 'b'), (10, 'a'), (22, 'c')]\n"
     ]
    }
   ],
   "source": [
    "d = {'a':10, 'b':1, 'c':22}\n",
    "print(sorted((j,i) for i,j in d.items()))"
   ]
  },
  {
   "cell_type": "code",
   "execution_count": 136,
   "metadata": {},
   "outputs": [
    {
     "name": "stdout",
     "output_type": "stream",
     "text": [
      "Lorem ipsum dolor sit amet, consectetur adipiscing elit, sed do eiusmod tempor incididunt ut labore et dolore magna aliqua. Ut enim ad minim veniam, quis nostrud exercitation ullamco laboris nisi ut aliquip ex ea commodo consequat. Duis aute irure dolor in reprehenderit in voluptate velit esse cillum dolore eu fugiat nulla pariatur. Excepteur sint occaecat cupidatat non proident, sunt in culpa qui officia deserunt mollit anim id est laborum.\n",
      "Lorem ipsum dolor sit amet, consectetur adipiscing elit, sed do eiusmod tempor incididunt ut labore et dolore magna aliqua. Ut enim ad minim veniam, quis nostrud exercitation ullamco laboris nisi ut aliquip ex ea commodo consequat. Duis aute irure dolor in reprehenderit in voluptate velit esse cillum dolore eu fugiat nulla pariatur. Excepteur sint occaecat cupidatat non proident, sunt in culpa qui officia deserunt mollit anim id est laborum.\n",
      "Lorem ipsum dolor sit amet, consectetur adipiscing elit, sed do eiusmod tempor incididunt ut labore et dolore magna aliqua. Ut enim ad minim veniam, quis nostrud exercitation ullamco laboris nisi ut aliquip ex ea commodo consequat. Duis aute irure dolor in reprehenderit in voluptate velit esse cillum dolore eu fugiat nulla pariatur. Excepteur sint occaecat cupidatat non proident, sunt in culpa qui officia deserunt mollit anim id est laborum.Lorem ipsum dolor sit amet, consectetur adipiscing elit, sed do eiusmod tempor incididunt ut labore et dolore magna aliqua. Ut enim ad minim veniam, quis nostrud exercitation ullamco laboris nisi ut aliquip ex ea commodo consequat. Duis aute irure dolor in reprehenderit in voluptate velit esse cillum dolore eu fugiat nulla pariatur. Excepteur sint occaecat cupidatat non proident, sunt in culpa qui officia deserunt mollit anim id est laborum.\n"
     ]
    }
   ],
   "source": [
    "import re\n",
    "f = open('sample.txt')\n",
    "for l in f: \n",
    "    l = l.rstrip()\n",
    "    if(re.search('^Lorem',l)):\n",
    "        print(l)"
   ]
  },
  {
   "cell_type": "code",
   "execution_count": 2,
   "metadata": {},
   "outputs": [
    {
     "name": "stdout",
     "output_type": "stream",
     "text": [
      "['2', '3', '6']\n",
      "['I']\n"
     ]
    }
   ],
   "source": [
    "import re\n",
    "a = 'I have 2 pens, 3 pencils and 6 books'\n",
    "b = re.findall('[0-9]+',a)\n",
    "print(b)\n",
    "c = re.findall('[AEIOU]+',a)\n",
    "print(c)"
   ]
  },
  {
   "cell_type": "code",
   "execution_count": 4,
   "metadata": {},
   "outputs": [
    {
     "name": "stdout",
     "output_type": "stream",
     "text": [
      "['To: Pune:']\n",
      "['To:']\n"
     ]
    }
   ],
   "source": [
    "a = \"To: Pune: Mumbai\"\n",
    "# greedy\n",
    "b = re.findall('^T.+:',a)\n",
    "print(b)\n",
    "# non greedy\n",
    "c = re.findall('^T.+?:',a)\n",
    "print(c)"
   ]
  },
  {
   "cell_type": "code",
   "execution_count": 5,
   "metadata": {},
   "outputs": [
    {
     "name": "stdout",
     "output_type": "stream",
     "text": [
      "['abcxyz@gmail.com']\n"
     ]
    }
   ],
   "source": [
    "a = 'From abcxyz@gmail.com Mon Feb 7 2022'\n",
    "x = re.findall('\\S+@\\S+', a)\n",
    "print(x)"
   ]
  },
  {
   "cell_type": "code",
   "execution_count": 7,
   "metadata": {},
   "outputs": [
    {
     "name": "stdout",
     "output_type": "stream",
     "text": [
      "['gmail.com']\n"
     ]
    }
   ],
   "source": [
    "a = 'From abcxyz@gmail.com Mon Feb 7 2022'\n",
    "b = re.findall('@([^ ]*)',a)\n",
    "print(b)"
   ]
  },
  {
   "cell_type": "code",
   "execution_count": 10,
   "metadata": {},
   "outputs": [
    {
     "name": "stdout",
     "output_type": "stream",
     "text": [
      "['$10.00']\n"
     ]
    }
   ],
   "source": [
    "x = \"Price of cookies is $10.00\"\n",
    "y = re.findall('\\$[0-9.]+',x)\n",
    "print(y)"
   ]
  },
  {
   "cell_type": "code",
   "execution_count": null,
   "metadata": {},
   "outputs": [],
   "source": []
  }
 ],
 "metadata": {
  "interpreter": {
   "hash": "31f2aee4e71d21fbe5cf8b01ff0e069b9275f58929596ceb00d14d90e3e16cd6"
  },
  "kernelspec": {
   "display_name": "Python 3.8.9 64-bit",
   "language": "python",
   "name": "python3"
  },
  "language_info": {
   "codemirror_mode": {
    "name": "ipython",
    "version": 3
   },
   "file_extension": ".py",
   "mimetype": "text/x-python",
   "name": "python",
   "nbconvert_exporter": "python",
   "pygments_lexer": "ipython3",
   "version": "3.8.9"
  },
  "orig_nbformat": 4
 },
 "nbformat": 4,
 "nbformat_minor": 2
}
